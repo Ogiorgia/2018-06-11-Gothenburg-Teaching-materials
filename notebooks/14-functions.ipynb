{
 "cells": [
  {
   "cell_type": "markdown",
   "metadata": {},
   "source": [
    "## 14. Functions "
   ]
  },
  {
   "cell_type": "markdown",
   "metadata": {},
   "source": [
    "### Break programs down into functions to make them easier to understand.\n"
   ]
  },
  {
   "cell_type": "markdown",
   "metadata": {},
   "source": [
    "### Define a function using def with a name, parameters, and a block of code.\n"
   ]
  },
  {
   "cell_type": "markdown",
   "metadata": {},
   "source": [
    "### Defining a function does not run it.\n"
   ]
  },
  {
   "cell_type": "markdown",
   "metadata": {},
   "source": [
    "### Arguments in call are matched to parameters in definition.\n",
    "- Functions are most useful when they can operate on different data.\n",
    "- Specify parameters when defining a function.\n",
    " - These become variables when the function is executed.\n",
    " - Are assigned the arguments in the call (i.e., the values passed to the function).\n",
    " - If you don’t name the arguments when using them in the call, the arguments will be matched to parameters in the order the parameters are defined in the function.\n",
    "\n"
   ]
  },
  {
   "cell_type": "markdown",
   "metadata": {},
   "source": [
    "Or, we can name the arguments when we call the function, which allows us to specify them in any order:"
   ]
  },
  {
   "cell_type": "markdown",
   "metadata": {},
   "source": [
    "### Functions may return a result to their caller using return.\n",
    "- Use return ... to give a value back to the caller.\n",
    "- May occur anywhere in the function.\n",
    "- But functions are easier to understand if return occurs:\n",
    "- At the start to handle special cases.\n",
    "- At the very end, with a final result."
   ]
  },
  {
   "cell_type": "markdown",
   "metadata": {},
   "source": [
    "- Remember: every function returns something.\n",
    "- A function that doesn’t explicitly return a value automatically returns None.\n"
   ]
  },
  {
   "cell_type": "code",
   "execution_count": null,
   "metadata": {},
   "outputs": [],
   "source": []
  }
 ],
 "metadata": {
  "kernelspec": {
   "display_name": "Python [default]",
   "language": "python",
   "name": "python3"
  },
  "language_info": {
   "codemirror_mode": {
    "name": "ipython",
    "version": 3
   },
   "file_extension": ".py",
   "mimetype": "text/x-python",
   "name": "python",
   "nbconvert_exporter": "python",
   "pygments_lexer": "ipython3",
   "version": "3.6.3"
  }
 },
 "nbformat": 4,
 "nbformat_minor": 2
}
