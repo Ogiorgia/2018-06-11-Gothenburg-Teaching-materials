{
 "cells": [
  {
   "cell_type": "markdown",
   "metadata": {},
   "source": [
    "## 12. Loops"
   ]
  },
  {
   "cell_type": "markdown",
   "metadata": {},
   "source": [
    "### A for loop executes commands once for each value in a collection.\n",
    "- Doing calculations on the values in a list one by one is as painful as working with pressure_001, pressure_002, etc.\n",
    "- A for loop tells Python to execute some statements once for each value in a list, a character string, or some other collection.\n",
    "- “for each thing in this group, do these operations”"
   ]
  },
  {
   "cell_type": "markdown",
   "metadata": {},
   "source": [
    "### The first line of the for loop must end with a colon, and the body must be indented.\n",
    "- The colon at the end of the first line signals the start of a block of statements.\n",
    "- Python uses indentation rather than {} or begin/end to show nesting.\n",
    "- Any consistent indentation is legal, but almost everyone uses four spaces.\n"
   ]
  },
  {
   "cell_type": "markdown",
   "metadata": {},
   "source": [
    "- Indentation is always meaningful in Python."
   ]
  },
  {
   "cell_type": "markdown",
   "metadata": {},
   "source": [
    "- This error can be fixed by removing the extra spaces at the beginning of the second line.\n"
   ]
  },
  {
   "cell_type": "markdown",
   "metadata": {},
   "source": [
    "### A for loop is made up of a collection, a loop variable, and a body.\n"
   ]
  },
  {
   "cell_type": "markdown",
   "metadata": {},
   "source": [
    "- The collection, [2, 3, 5], is what the loop is being run on.\n",
    "- The body, print(number), specifies what to do for each value in the collection.\n",
    "- The loop variable, number, is what changes for each iteration of the loop.\n",
    " - The “current thing”.\n"
   ]
  },
  {
   "cell_type": "markdown",
   "metadata": {},
   "source": [
    "### Loop variables can be called anything.\n",
    "- As with all variables, loop variables are:\n",
    "- Created on demand.\n",
    "- Meaningless: their names can be anything at all."
   ]
  },
  {
   "cell_type": "markdown",
   "metadata": {},
   "source": [
    "### The body of a loop can contain many statements.\n",
    "- But no loop should be more than a few lines long.\n",
    "- Hard for human beings to keep larger chunks of code in mind."
   ]
  },
  {
   "cell_type": "markdown",
   "metadata": {},
   "source": [
    "### Use range to iterate over a sequence of numbers.\n",
    "- The built-in function range produces a sequence of numbers.\n",
    "- Not a list: the numbers are produced on demand to make looping over large ranges more efficient.\n",
    "- range(N) is the numbers 0..N-1\n",
    "- Exactly the legal indices of a list or character string of length N"
   ]
  },
  {
   "cell_type": "markdown",
   "metadata": {},
   "source": [
    "### The Accumulator pattern turns many values into one.\n",
    "- A common pattern in programs is to:\n",
    "- Initialize an accumulator variable to zero, the empty string, or the empty list.\n",
    "- Update the variable with values from a collection."
   ]
  },
  {
   "cell_type": "markdown",
   "metadata": {},
   "source": [
    "- Read total = total + (number + 1) as:\n",
    " - Add 1 to the current value of the loop variable number.\n",
    " - Add that to the current value of the accumulator variable total.\n",
    " - Assign that to total, replacing the current value.\n",
    " - We have to add number + 1 because range produces 0..9, not 1..10."
   ]
  },
  {
   "cell_type": "code",
   "execution_count": null,
   "metadata": {},
   "outputs": [],
   "source": []
  }
 ],
 "metadata": {
  "kernelspec": {
   "display_name": "Python [default]",
   "language": "python",
   "name": "python3"
  },
  "language_info": {
   "codemirror_mode": {
    "name": "ipython",
    "version": 3
   },
   "file_extension": ".py",
   "mimetype": "text/x-python",
   "name": "python",
   "nbconvert_exporter": "python",
   "pygments_lexer": "ipython3",
   "version": "3.6.3"
  }
 },
 "nbformat": 4,
 "nbformat_minor": 2
}
