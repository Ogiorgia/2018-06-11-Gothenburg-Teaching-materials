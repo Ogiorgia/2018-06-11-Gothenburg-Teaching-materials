{
 "cells": [
  {
   "cell_type": "markdown",
   "metadata": {},
   "source": [
    "## Looping over data sets"
   ]
  },
  {
   "cell_type": "markdown",
   "metadata": {},
   "source": [
    "### Use a for loop to process files given a list of their names.\n",
    "- A filename is just a character string.\n",
    "- And lists can contain character strings."
   ]
  },
  {
   "cell_type": "markdown",
   "metadata": {},
   "source": [
    "### Use glob.glob to find sets of files whose names match a pattern.\n",
    "- In Unix, the term “globbing” means “matching a set of files with a pattern”.\n",
    "- The most common patterns are:\n",
    "  - * meaning “match zero or more characters”\n",
    " - ? meaning “match exactly one character”\n",
    "- Python contains the glob library to provide pattern matching functionality\n",
    "- The glob library contains a function also called glob to match file patterns\n",
    "- E.g., glob.glob('*.txt') matches all files in the current directory whose names end with .txt.\n",
    "- Result is a (possibly empty) list of character strings."
   ]
  },
  {
   "cell_type": "markdown",
   "metadata": {},
   "source": [
    "### Use glob and for to process batches of files.\n",
    "- Helps a lot if the files are named and stored systematically and consistently so that simple patterns will find the right data."
   ]
  },
  {
   "cell_type": "markdown",
   "metadata": {},
   "source": [
    "- This includes all data, as well as per-region data.\n",
    "- Use a more specific pattern in the exercises to exclude the whole data set.\n",
    "- But note that the minimum of the entire data set is also the minimum of one of the data sets, which is a nice check on correctness.\n"
   ]
  },
  {
   "cell_type": "code",
   "execution_count": null,
   "metadata": {},
   "outputs": [],
   "source": []
  }
 ],
 "metadata": {
  "kernelspec": {
   "display_name": "Python [default]",
   "language": "python",
   "name": "python3"
  },
  "language_info": {
   "codemirror_mode": {
    "name": "ipython",
    "version": 3
   },
   "file_extension": ".py",
   "mimetype": "text/x-python",
   "name": "python",
   "nbconvert_exporter": "python",
   "pygments_lexer": "ipython3",
   "version": "3.6.3"
  }
 },
 "nbformat": 4,
 "nbformat_minor": 2
}
