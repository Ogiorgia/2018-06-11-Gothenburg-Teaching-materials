{
 "cells": [
  {
   "cell_type": "markdown",
   "metadata": {},
   "source": [
    "## 11. Lists"
   ]
  },
  {
   "cell_type": "markdown",
   "metadata": {},
   "source": [
    "### A list stores many values in a single structure.\n",
    "- Doing calculations with a hundred variables called pressure_001, pressure_002, etc., would be at least as slow as doing them by hand.\n",
    "- Use a list to store many values together.\n",
    "- Contained within square brackets [...].\n",
    "- Values separated by commas ,.\n",
    "- Use len to find out how many values are in a list."
   ]
  },
  {
   "cell_type": "markdown",
   "metadata": {},
   "source": [
    "### Use an item’s index to fetch it from a list.\n",
    "- Just like strings."
   ]
  },
  {
   "cell_type": "markdown",
   "metadata": {},
   "source": [
    "### Lists’ values can be replaced by assigning to them.\n",
    "- Use an index expression on the left of assignment to replace a value.\n"
   ]
  },
  {
   "cell_type": "markdown",
   "metadata": {},
   "source": [
    "### Appending items to a list lengthens it.\n",
    "- Use list_name.append to add items to the end of a list."
   ]
  },
  {
   "cell_type": "markdown",
   "metadata": {},
   "source": [
    "- append is a method of lists.\n",
    "- Like a function, but tied to a particular object.\n",
    "- Use object_name.method_name to call methods.\n",
    " - Deliberately resembles the way we refer to things in a library.\n",
    "- We will meet other methods of lists as we go along.\n",
    " - Use help(list) for a preview.\n",
    "- extend is similar to append, but it allows you to combine two lists. For example:\n"
   ]
  },
  {
   "cell_type": "markdown",
   "metadata": {},
   "source": [
    "- Note that while extend maintains the “flat” structure of the list, appending a list to a list makes the result two-dimensional."
   ]
  },
  {
   "cell_type": "markdown",
   "metadata": {},
   "source": [
    "### Use del to remove items from a list entirely.\n",
    "- del list_name[index] removes an item from a list and shortens the list.\n",
    "- Not a function or a method, but a statement in the language."
   ]
  },
  {
   "cell_type": "markdown",
   "metadata": {},
   "source": [
    "### The empty list contains no values.\n",
    "- Use [] on its own to represent a list that doesn’t contain any values.\n",
    " - “The zero of lists.”\n",
    "- Helpful as a starting point for collecting values (which we will see in the next episode)."
   ]
  },
  {
   "cell_type": "markdown",
   "metadata": {},
   "source": [
    "### Lists may contain values of different types.\n",
    "- A single list may contain numbers, strings, and anything else."
   ]
  },
  {
   "cell_type": "markdown",
   "metadata": {},
   "source": [
    "### Character strings can be indexed like lists.\n",
    "- Get single characters from a character string using indexes in square brackets."
   ]
  },
  {
   "cell_type": "markdown",
   "metadata": {},
   "source": [
    "### Character strings are immutable.\n",
    "- Cannot change the characters in a string after it has been created.\n",
    "- Immutable: can’t be changed after creation.\n",
    "- In contrast, lists are mutable: they can be modified in place.\n",
    "- Python considers the string to be a single value with parts, not a collection of values."
   ]
  },
  {
   "cell_type": "markdown",
   "metadata": {},
   "source": [
    "- Lists and character strings are both collections."
   ]
  },
  {
   "cell_type": "markdown",
   "metadata": {},
   "source": [
    "### Indexing beyond the end of the collection is an error.\n",
    "- Python reports an IndexError if we attempt to access a value that doesn’t exist.\n",
    " - This is a kind of runtime error.\n",
    " - Cannot be detected as the code is parsed because the index might be calculated based on data."
   ]
  },
  {
   "cell_type": "code",
   "execution_count": null,
   "metadata": {},
   "outputs": [],
   "source": []
  }
 ],
 "metadata": {
  "kernelspec": {
   "display_name": "Python [default]",
   "language": "python",
   "name": "python3"
  },
  "language_info": {
   "codemirror_mode": {
    "name": "ipython",
    "version": 3
   },
   "file_extension": ".py",
   "mimetype": "text/x-python",
   "name": "python",
   "nbconvert_exporter": "python",
   "pygments_lexer": "ipython3",
   "version": "3.6.3"
  }
 },
 "nbformat": 4,
 "nbformat_minor": 2
}
