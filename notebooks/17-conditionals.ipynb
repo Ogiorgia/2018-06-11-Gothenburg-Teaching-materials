{
 "cells": [
  {
   "cell_type": "markdown",
   "metadata": {},
   "source": [
    "## 17. Conditionals"
   ]
  },
  {
   "cell_type": "markdown",
   "metadata": {},
   "source": [
    "### Use if statements to control whether or not a block of code is executed.\n",
    "- An if statement (more properly called a conditional statement) controls whether some block of code is executed or not.\n",
    "- Structure is similar to a for statement:\n",
    "- First line opens with if and ends with a colon\n",
    "- Body containing one or more statements is indented (usually by 4 spaces)"
   ]
  },
  {
   "cell_type": "markdown",
   "metadata": {},
   "source": [
    "### Conditionals are often used inside loops.\n",
    "- Not much point using a conditional when we know the value (as above).\n",
    "- But useful when we have a collection to process."
   ]
  },
  {
   "cell_type": "markdown",
   "metadata": {},
   "source": [
    "### Use else to execute a block of code when an if condition is not true.\n",
    "- else can be used following an if.\n",
    "- Allows us to specify an alternative to execute when the if branch isn’t taken.\n"
   ]
  },
  {
   "cell_type": "markdown",
   "metadata": {},
   "source": [
    "### Use elif to specify additional tests.\n",
    "- May want to provide several alternative choices, each with its own test.\n",
    "- Use elif (short for “else if”) and a condition to specify these.\n",
    "- Always associated with an if.\n",
    "- Must come before the else (which is the “catch all”)."
   ]
  },
  {
   "cell_type": "markdown",
   "metadata": {},
   "source": [
    "### Conditions are tested once, in order.\n",
    "- Python steps through the branches of the conditional in order, testing each in turn.\n",
    "- So ordering matters."
   ]
  },
  {
   "cell_type": "markdown",
   "metadata": {},
   "source": [
    " - Often use conditionals in a loop to “evolve” the values of variables."
   ]
  },
  {
   "cell_type": "code",
   "execution_count": null,
   "metadata": {},
   "outputs": [],
   "source": []
  }
 ],
 "metadata": {
  "kernelspec": {
   "display_name": "Python [default]",
   "language": "python",
   "name": "python3"
  },
  "language_info": {
   "codemirror_mode": {
    "name": "ipython",
    "version": 3
   },
   "file_extension": ".py",
   "mimetype": "text/x-python",
   "name": "python",
   "nbconvert_exporter": "python",
   "pygments_lexer": "ipython3",
   "version": "3.6.3"
  }
 },
 "nbformat": 4,
 "nbformat_minor": 2
}
