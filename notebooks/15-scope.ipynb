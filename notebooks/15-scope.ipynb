{
 "cells": [
  {
   "cell_type": "markdown",
   "metadata": {},
   "source": [
    "## 15. Scope"
   ]
  },
  {
   "cell_type": "markdown",
   "metadata": {},
   "source": [
    "### The scope of a variable is the part of a program that can ‘see’ that variable.\n",
    "- There are only so many sensible names for variables.\n",
    "- People using functions shouldn’t have to worry about what variable names the author of the function used.\n",
    "- People writing functions shouldn’t have to worry about what variable names the function’s caller uses.\n",
    "- The part of a program in which a variable is visible is called its scope."
   ]
  },
  {
   "cell_type": "markdown",
   "metadata": {},
   "source": [
    "- pressure is a global variable.\n",
    " - Defined outside any particular function.\n",
    " - Visible everywhere.\n",
    "- t and temperature are local variables in adjust.\n",
    " - Defined in the function.\n",
    " - Not visible in the main program.\n",
    "- Remember: a function parameter is a variable that is automatically assigned a value when the function is called.\n"
   ]
  },
  {
   "cell_type": "code",
   "execution_count": null,
   "metadata": {},
   "outputs": [],
   "source": []
  }
 ],
 "metadata": {
  "kernelspec": {
   "display_name": "Python [default]",
   "language": "python",
   "name": "python3"
  },
  "language_info": {
   "codemirror_mode": {
    "name": "ipython",
    "version": 3
   },
   "file_extension": ".py",
   "mimetype": "text/x-python",
   "name": "python",
   "nbconvert_exporter": "python",
   "pygments_lexer": "ipython3",
   "version": "3.6.3"
  }
 },
 "nbformat": 4,
 "nbformat_minor": 2
}
